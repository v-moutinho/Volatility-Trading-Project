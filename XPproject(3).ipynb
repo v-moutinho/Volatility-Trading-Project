{
 "cells": [
  {
   "cell_type": "markdown",
   "id": "8beb2877-1bdf-40ac-9d87-926cf8734020",
   "metadata": {},
   "source": [
    "# 2. Pipeline de Ingestao de Dados do Yahoo Finance"
   ]
  },
  {
   "cell_type": "code",
   "execution_count": 9,
   "id": "764eda6f-0590-47a6-8f0d-7aee3d39956f",
   "metadata": {},
   "outputs": [],
   "source": [
    "import pandas as pd\n",
    "import numpy as np\n",
    "import yfinance as yf"
   ]
  },
  {
   "cell_type": "code",
   "execution_count": 11,
   "id": "4762e015-df14-4edb-b091-08406e234679",
   "metadata": {},
   "outputs": [
    {
     "name": "stdout",
     "output_type": "stream",
     "text": [
      "Price                      Adj Close      Close       High        Low  \\\n",
      "Ticker                      PETR4.SA   PETR4.SA   PETR4.SA   PETR4.SA   \n",
      "Date                                                                    \n",
      "2010-01-04 00:00:00+00:00   9.984550  37.320000  37.320000  36.820000   \n",
      "2010-01-05 00:00:00+00:00   9.898937  37.000000  37.430000  36.799999   \n",
      "2010-01-06 00:00:00+00:00  10.032708  37.500000  37.500000  36.799999   \n",
      "2010-01-07 00:00:00+00:00   9.939072  37.150002  37.450001  37.070000   \n",
      "2010-01-08 00:00:00+00:00   9.885560  36.950001  37.389999  36.860001   \n",
      "\n",
      "Price                           Open    Volume  \n",
      "Ticker                      PETR4.SA  PETR4.SA  \n",
      "Date                                            \n",
      "2010-01-04 00:00:00+00:00  36.950001  13303600  \n",
      "2010-01-05 00:00:00+00:00  37.380001  21396400  \n",
      "2010-01-06 00:00:00+00:00  36.799999  18720600  \n",
      "2010-01-07 00:00:00+00:00  37.270000  10964600  \n",
      "2010-01-08 00:00:00+00:00  37.160000  14624200  \n"
     ]
    }
   ],
   "source": [
    "def fetch_data(ticker, start_date, end_date):\n",
    "    \"Baixar dados historicos do Yahoo Finance\"\n",
    "    data = yf.download(ticker, start=start_date, end=end_date, progress=False)\n",
    "    return data\n",
    "\n",
    "raw_data = fetch_data(\"PETR4.SA\", \"2010-01-01\", \"2024-10-31\")\n",
    "print(raw_data.head())"
   ]
  },
  {
   "cell_type": "markdown",
   "id": "40d0b53b-d8a3-4279-a477-d9b3237e3041",
   "metadata": {},
   "source": [
    "# 2.1 Limpeza de dados"
   ]
  },
  {
   "cell_type": "code",
   "execution_count": 13,
   "id": "68c5ae41-0226-494d-ad53-e868e4667720",
   "metadata": {},
   "outputs": [
    {
     "name": "stdout",
     "output_type": "stream",
     "text": [
      "Price                      Adj Close      Close       High        Low  \\\n",
      "Ticker                      PETR4.SA   PETR4.SA   PETR4.SA   PETR4.SA   \n",
      "Date                                                                    \n",
      "2010-01-04 00:00:00+00:00   9.984550  37.320000  37.320000  36.820000   \n",
      "2010-01-05 00:00:00+00:00   9.898937  37.000000  37.430000  36.799999   \n",
      "2010-01-06 00:00:00+00:00  10.032708  37.500000  37.500000  36.799999   \n",
      "2010-01-07 00:00:00+00:00   9.939072  37.150002  37.450001  37.070000   \n",
      "2010-01-08 00:00:00+00:00   9.885560  36.950001  37.389999  36.860001   \n",
      "\n",
      "Price                           Open    Volume  \n",
      "Ticker                      PETR4.SA  PETR4.SA  \n",
      "Date                                            \n",
      "2010-01-04 00:00:00+00:00  36.950001  13303600  \n",
      "2010-01-05 00:00:00+00:00  37.380001  21396400  \n",
      "2010-01-06 00:00:00+00:00  36.799999  18720600  \n",
      "2010-01-07 00:00:00+00:00  37.270000  10964600  \n",
      "2010-01-08 00:00:00+00:00  37.160000  14624200  \n"
     ]
    }
   ],
   "source": [
    "def clean_data(data):\n",
    "    \"Limpeza de dados do mercado com ajuste de dados ausentes e de valores extremos\"\n",
    "    # Limpar linhas com dados ausentes\n",
    "    data = data.dropna()\n",
    "    # Remover extremos no preco 'Close' usando z-score\n",
    "    z_scores = np.abs((data['Close'] - data['Close'].mean()) / data['Close'].std())\n",
    "    data = data[z_scores < 3]\n",
    "    # Converter (date) index para datetime se ainda nao foi convertido\n",
    "    data.index = pd.to_datetime(data.index)\n",
    "    return data\n",
    "\n",
    "cleaned_data = clean_data(raw_data)\n",
    "print(cleaned_data.head())\n"
   ]
  },
  {
   "cell_type": "markdown",
   "id": "d827a716-3f16-412b-b07e-3249475f1f70",
   "metadata": {},
   "source": [
    "# 2.2 Armazenamento de dados"
   ]
  },
  {
   "cell_type": "code",
   "execution_count": 15,
   "id": "8b754cf8-bec7-41dd-a54a-4a665960b967",
   "metadata": {},
   "outputs": [],
   "source": [
    "import sqlite3"
   ]
  },
  {
   "cell_type": "code",
   "execution_count": 17,
   "id": "1deb94f2-f585-4c07-9e29-5b858d3871ee",
   "metadata": {},
   "outputs": [
    {
     "name": "stdout",
     "output_type": "stream",
     "text": [
      "Dados armazenados com sucesso!\n"
     ]
    }
   ],
   "source": [
    "def store_data(data, db_name, table_name):\n",
    "    \"Armazenar dados limpos em uma base de dados SQLite\"\n",
    "    # Conectar a base de dados SQLite\n",
    "    conn = sqlite3.connect(db_name)\n",
    "    # Armazenar dados em uma tabela\n",
    "    data.to_sql(table_name, conn, if_exists='replace', index=True)\n",
    "    # Fechar conexao\n",
    "    conn.close()\n",
    "\n",
    "store_data(cleaned_data, \"financial_data.db\", \"PETR3.SA\")\n",
    "print(\"Dados armazenados com sucesso!\")\n"
   ]
  },
  {
   "cell_type": "markdown",
   "id": "edbcaa0b-60e7-43ae-b2cc-1b70aeea689c",
   "metadata": {},
   "source": [
    "# 2.3 Automatizar o pipeline de ingestao, limpeza e armazenamento de dados"
   ]
  },
  {
   "cell_type": "code",
   "execution_count": 19,
   "id": "e69fe1fb-a33b-478d-88db-333e4089d551",
   "metadata": {},
   "outputs": [
    {
     "name": "stdout",
     "output_type": "stream",
     "text": [
      "Pipeline completo para PETR4.SA!\n"
     ]
    }
   ],
   "source": [
    "def data_pipeline(ticker, start_date, end_date, db_name, table_name):\n",
    "    \"Completar o pipeline de aquisicao, limpeza e armazenamento de dados financeiros\"\n",
    "    #Step 1: Aquisicao de dados\n",
    "    raw_data = fetch_data(ticker, start_date, end_date)\n",
    "    #Step 2: Limpeza de dados\n",
    "    cleaned_data = clean_data(raw_data)\n",
    "    #Step 3: Armazenamento de dados\n",
    "    store_data(cleaned_data, db_name, table_name)\n",
    "    print(f\"Pipeline completo para {ticker}!\")\n",
    "\n",
    "data_pipeline(\"PETR4.SA\", \"2010-01-01\", \"2024-10-31\", \"financial_data.db\", \"PETR4.SA\")"
   ]
  },
  {
   "cell_type": "markdown",
   "id": "75cb59e0-955b-402e-8454-c5181bdf46e6",
   "metadata": {},
   "source": [
    "# 3. Calculo de Volatilidade Historica e Volatilidade Implicita"
   ]
  },
  {
   "cell_type": "markdown",
   "id": "086baa58-33bb-4144-9e77-7db3906e071e",
   "metadata": {},
   "source": [
    "# 3.1 Volatilidade Historica"
   ]
  },
  {
   "cell_type": "code",
   "execution_count": 21,
   "id": "9b4c1c99-67a7-47f9-96e2-d3c7dd5d51ae",
   "metadata": {},
   "outputs": [
    {
     "name": "stdout",
     "output_type": "stream",
     "text": [
      "Price                          Close Log_Returns Historical_Volatility\n",
      "Ticker                      PETR4.SA                                  \n",
      "Date                                                                  \n",
      "2024-10-24 00:00:00+00:00  35.900002    0.006708              0.186282\n",
      "2024-10-25 00:00:00+00:00  36.150002    0.006940              0.187280\n",
      "2024-10-28 00:00:00+00:00  36.090000   -0.001661              0.182314\n",
      "2024-10-29 00:00:00+00:00  36.009998   -0.002219              0.182041\n",
      "2024-10-30 00:00:00+00:00  35.849998   -0.004453              0.168468\n"
     ]
    }
   ],
   "source": [
    "def calculate_historical_volatility(ticker, start_date, end_date, window=30):\n",
    "    \"Calcular a Volatilidade historica de uma determinada acao.\"\n",
    "    # Aquisicao de dados historicos\n",
    "    data = yf.download(ticker, start=start_date, end=end_date, progress=False)\n",
    "    # Calculo de log de retorno diario\n",
    "    data['Log_Returns'] = np.log(data['Close'] / data['Close'].shift(1))\n",
    "    # Calculo de desvio padrao do log de retorno (anualizado)\n",
    "    data['Historical_Volatility'] = data['Log_Returns'].rolling(window).std() * np.sqrt(252)\n",
    "    return data[['Close', 'Log_Returns', 'Historical_Volatility']]\n",
    "\n",
    "historical_vol_data = calculate_historical_volatility(\"PETR4.SA\", \"2010-01-01\", \"2024-10-31\")\n",
    "print(historical_vol_data.tail())"
   ]
  },
  {
   "cell_type": "markdown",
   "id": "1a5714c6-28bf-4a7c-a90b-a85dbe19ada6",
   "metadata": {},
   "source": [
    "# 3.2 Volatilidada Implicita"
   ]
  },
  {
   "cell_type": "code",
   "execution_count": 23,
   "id": "b17107ae-9cea-493d-a784-f44bd4d0bc63",
   "metadata": {},
   "outputs": [],
   "source": [
    "from scipy.stats import norm\n",
    "from scipy.optimize import brentq"
   ]
  },
  {
   "cell_type": "code",
   "execution_count": 25,
   "id": "c3e91a63-6601-4be7-b293-3b2719b3def4",
   "metadata": {},
   "outputs": [
    {
     "name": "stdout",
     "output_type": "stream",
     "text": [
      "Volatilidade Implicita: 17.26%\n"
     ]
    }
   ],
   "source": [
    "def black_scholes(S, K, T, r, sigma, option_type=\"call\"):\n",
    "    \"Calcular o preco da opcao Black-Scholes\"\n",
    "    d1 = (np.log(S / K) + (r + 0.5 * sigma**2) * T) / (sigma * np.sqrt(T))\n",
    "    d2 = d1 - sigma * np.sqrt(T)\n",
    "    if option_type == \"call\":\n",
    "        return S * norm.cdf(d1) - K * np.exp(-r * T) * norm.cdf(d2)\n",
    "    elif option_type == \"put\":\n",
    "        return K * np.exp(-r * T) * norm.cdf(-d2) - S * norm.cdf(-d1)\n",
    "\n",
    "def implied_volatility(S, K, T, r, market_price, option_type=\"call\"):\n",
    "    \"Calcular a volatilidade implicita usando a formula de Black-Scholes\"\n",
    "    def objective_function(sigma):\n",
    "        return black_scholes(S, K, T, r, sigma, option_type) - market_price\n",
    "\n",
    "    # Resolver para a volatilidade implicita\n",
    "    try:\n",
    "        iv = brentq(objective_function, 1e-5, 5) # Limites iniciais de volatilidade\n",
    "        return iv\n",
    "    except ValueError:\n",
    "        return np.nan\n",
    "\n",
    "S = 38 # Valor da acao atual\n",
    "K = 43 # Preco de Strike\n",
    "T = 0.5 # Tempo para o vencimento (em anos)\n",
    "r = 0.03 # Taxa livre de risco\n",
    "market_price = 0.5 # Preco da opcao\n",
    "\n",
    "implied_vol = implied_volatility(S, K, T, r, market_price, option_type=\"call\")\n",
    "print(f\"Volatilidade Implicita: {implied_vol:.2%}\")\n"
   ]
  },
  {
   "cell_type": "markdown",
   "id": "a7de0d3f-ef25-4ad9-a6da-2fa22416ed27",
   "metadata": {},
   "source": [
    "# 3.3 Combinar ambas as volatilidades"
   ]
  },
  {
   "cell_type": "code",
   "execution_count": 27,
   "id": "d6157fc5-421c-4a51-8ee3-a9c28bf9f6fe",
   "metadata": {},
   "outputs": [
    {
     "name": "stdout",
     "output_type": "stream",
     "text": [
      "Volatilidade Historica:\n",
      "Price                          Close Log_Returns Historical_Volatility\n",
      "Ticker                      PETR4.SA                                  \n",
      "Date                                                                  \n",
      "2024-10-24 00:00:00+00:00  35.900002    0.006708              0.186282\n",
      "2024-10-25 00:00:00+00:00  36.150002    0.006940              0.187280\n",
      "2024-10-28 00:00:00+00:00  36.090000   -0.001661              0.182314\n",
      "2024-10-29 00:00:00+00:00  36.009998   -0.002219              0.182041\n",
      "2024-10-30 00:00:00+00:00  35.849998   -0.004453              0.168468\n",
      "\n",
      "Volatilidade Implicita:\n",
      "[0.14655776873586115, 0.24685930176474008]\n"
     ]
    }
   ],
   "source": [
    "def calculate_volatility(ticker, start_date, end_date, option_data):\n",
    "    \"Calcular volatilidade historica e implicita\"\n",
    "    # Volatilidade Historica\n",
    "    historical_data = calculate_historical_volatility(ticker, start_date, end_date)\n",
    "    # Volatilidade Implicita para cada opcao\n",
    "    implied_vols = []\n",
    "    for option in option_data:\n",
    "        S = option['S']\n",
    "        K = option['K']\n",
    "        T = option['T']\n",
    "        r = option['r']\n",
    "        market_price = option['market_price']\n",
    "        iv = implied_volatility(S, K, T, r, market_price, option['type'])\n",
    "        implied_vols.append(iv)\n",
    "    return historical_data, implied_vols\n",
    "\n",
    "# Dados das opcoes \n",
    "option_data = [\n",
    "    {\"S\":150, \"K\":155, \"T\":0.5, \"r\":0.03, \"market_price\":5, \"type\": \"call\"},\n",
    "    {\"S\":150, \"K\":145, \"T\":0.5, \"r\":0.03, \"market_price\":7, \"type\": \"put\"}\n",
    "]\n",
    "\n",
    "# Uso\n",
    "historical_vol, implied_vol = calculate_volatility(\"PETR4.SA\", \"2010-01-01\", \"2024-10-31\", \n",
    "                                                   option_data)\n",
    "print(\"Volatilidade Historica:\")\n",
    "print(historical_vol.tail())\n",
    "print(\"\\nVolatilidade Implicita:\")\n",
    "print(implied_vol)\n",
    "\n"
   ]
  },
  {
   "cell_type": "markdown",
   "id": "730ad27b-86a2-42d4-9ff0-e2c8f84356d3",
   "metadata": {},
   "source": [
    "# 4. Testar Estrutura de Dados em Tempo Real"
   ]
  },
  {
   "cell_type": "code",
   "execution_count": 29,
   "id": "147c11c2-7b1d-4c5e-8d86-23ebc785022d",
   "metadata": {},
   "outputs": [],
   "source": [
    "import pandas as pd\n",
    "import numpy as np\n",
    "import time\n",
    "from datetime import datetime\n",
    "import yfinance as yf"
   ]
  },
  {
   "cell_type": "code",
   "execution_count": 31,
   "id": "2ba5b25b-1851-4c46-a4b6-23c3b53023ab",
   "metadata": {},
   "outputs": [
    {
     "name": "stdout",
     "output_type": "stream",
     "text": [
      "\n",
      "Importando dados de PETR4.SA em 2024-11-25 21:39:31.245875...\n",
      "Integridade dos dados: APROVADA\n",
      "\n",
      "Importando dados de PETR4.SA em 2024-11-25 21:39:41.888161...\n",
      "Integridade dos dados: APROVADA\n",
      "\n",
      "Importando dados de PETR4.SA em 2024-11-25 21:39:52.332960...\n",
      "Integridade dos dados: APROVADA\n",
      "\n",
      "Importando dados de PETR4.SA em 2024-11-25 21:40:02.770916...\n",
      "Integridade dos dados: APROVADA\n",
      "\n",
      "Importando dados de PETR4.SA em 2024-11-25 21:40:13.006313...\n",
      "Integridade dos dados: APROVADA\n",
      "\n",
      "Importando dados de PETR4.SA em 2024-11-25 21:40:23.323007...\n",
      "Integridade dos dados: APROVADA\n",
      "\n",
      "Teste em tempo real finalizado.\n"
     ]
    }
   ],
   "source": [
    "def fetch_real_time_data(ticker):\n",
    "    \"Importar dados de acoes em tempo real do Yahoo Finance\"\n",
    "    try:\n",
    "        data = yf.download(ticker, period=\"1d\", interval=\"1m\", progress=False)\n",
    "        if data.empty:\n",
    "            print(f\"Sem dados importados para a acao {ticker}\")\n",
    "        return data\n",
    "    except Exceptions as e:\n",
    "        print(f\"Error fetching data: {e}\")\n",
    "        return None\n",
    "\n",
    "\n",
    "def validate_data_integrity(data):\n",
    "    \"Validar a integridade dos dados importados.\"\n",
    "    \"- Verificar dados ausentes\"\n",
    "    \"- Confirmar que os timestamps sao consistentes\"\n",
    "    \"- Validar tipos de dados\"\n",
    "    if data is None or data.empty:\n",
    "         return {\"status\": \"Falha\", \"issue\": \"Sem dados importados ou dados ausentes\"}\n",
    "\n",
    "    issues = []\n",
    "    #Checar valores ausentes\n",
    "    if data.isnull().any().any():\n",
    "        issues.append(\"Dados contem valores ausentes\")\n",
    "\n",
    "    #Validar consistencia dos timestamps\n",
    "    if not pd.to_datetime(data.index).is_monotonic_increasing:\n",
    "        issues.append(\"Timestamps nao estao aumentando em ordem.\")\n",
    "\n",
    "    #Validar tipos de dados nas colunas\n",
    "    expected_columns = ['Open', 'High', 'Low', 'Close', 'Volume']\n",
    "    if not all(col in data.columns for col in expected_columns):\n",
    "        issues.append(\"Coluna esperada ausente nos dados\")\n",
    "\n",
    "    if issues:\n",
    "        return {\"status\": \"Falha\", \"issues\": issues}\n",
    "    return {\"status\": \"Sucesso\", \"issues\": None}\n",
    "\n",
    "def test_real_time_data(ticker, duration=60, interval=10):\n",
    "    \"Testar a atualizacao de dados em tempo real\"\n",
    "    \"- Importar dados em intervalos regulares\"\n",
    "    \"- Validar a integridade dos dados a cada passo\"\n",
    "    start_time = datetime.now()\n",
    "    end_time = start_time + pd.Timedelta(seconds=duration)\n",
    "    while datetime.now() < end_time:\n",
    "        print(f\"\\nImportando dados de {ticker} em {datetime.now()}...\")\n",
    "        data = fetch_real_time_data(ticker)\n",
    "\n",
    "        #Validar integridade dos dados\n",
    "        validation_result = validate_data_integrity(data)\n",
    "        if validation_result[\"status\"] == \"Sucesso\":\n",
    "            print(f\"Integridade dos dados: APROVADA\")\n",
    "        else:\n",
    "            print(f\"Integridade dos dados: REPROVADA - Problemas: {validation_result['issues']\n",
    "            }\")\n",
    "\n",
    "        #Pausa por intervalo definido\n",
    "        time.sleep(interval)\n",
    "\n",
    "    print(\"\\nTeste em tempo real finalizado.\")\n",
    "\n",
    "\n",
    "test_real_time_data(\"PETR4.SA\", duration=60, interval=10)"
   ]
  },
  {
   "cell_type": "code",
   "execution_count": 33,
   "id": "3f57052b-4da3-4dd7-81be-6a48ad40bb99",
   "metadata": {},
   "outputs": [
    {
     "data": {
      "text/html": [
       "<div>\n",
       "<style scoped>\n",
       "    .dataframe tbody tr th:only-of-type {\n",
       "        vertical-align: middle;\n",
       "    }\n",
       "\n",
       "    .dataframe tbody tr th {\n",
       "        vertical-align: top;\n",
       "    }\n",
       "\n",
       "    .dataframe thead tr th {\n",
       "        text-align: left;\n",
       "    }\n",
       "\n",
       "    .dataframe thead tr:last-of-type th {\n",
       "        text-align: right;\n",
       "    }\n",
       "</style>\n",
       "<table border=\"1\" class=\"dataframe\">\n",
       "  <thead>\n",
       "    <tr>\n",
       "      <th>Price</th>\n",
       "      <th>Adj Close</th>\n",
       "      <th>Close</th>\n",
       "      <th>High</th>\n",
       "      <th>Low</th>\n",
       "      <th>Open</th>\n",
       "      <th>Volume</th>\n",
       "    </tr>\n",
       "    <tr>\n",
       "      <th>Ticker</th>\n",
       "      <th>PETR4.SA</th>\n",
       "      <th>PETR4.SA</th>\n",
       "      <th>PETR4.SA</th>\n",
       "      <th>PETR4.SA</th>\n",
       "      <th>PETR4.SA</th>\n",
       "      <th>PETR4.SA</th>\n",
       "    </tr>\n",
       "    <tr>\n",
       "      <th>Datetime</th>\n",
       "      <th></th>\n",
       "      <th></th>\n",
       "      <th></th>\n",
       "      <th></th>\n",
       "      <th></th>\n",
       "      <th></th>\n",
       "    </tr>\n",
       "  </thead>\n",
       "  <tbody>\n",
       "    <tr>\n",
       "      <th>2024-11-25 13:03:00+00:00</th>\n",
       "      <td>39.349998</td>\n",
       "      <td>39.349998</td>\n",
       "      <td>39.400002</td>\n",
       "      <td>39.299999</td>\n",
       "      <td>39.380001</td>\n",
       "      <td>0</td>\n",
       "    </tr>\n",
       "    <tr>\n",
       "      <th>2024-11-25 13:04:00+00:00</th>\n",
       "      <td>39.419998</td>\n",
       "      <td>39.419998</td>\n",
       "      <td>39.419998</td>\n",
       "      <td>39.349998</td>\n",
       "      <td>39.369999</td>\n",
       "      <td>100300</td>\n",
       "    </tr>\n",
       "    <tr>\n",
       "      <th>2024-11-25 13:05:00+00:00</th>\n",
       "      <td>39.389999</td>\n",
       "      <td>39.389999</td>\n",
       "      <td>39.419998</td>\n",
       "      <td>39.360001</td>\n",
       "      <td>39.419998</td>\n",
       "      <td>84100</td>\n",
       "    </tr>\n",
       "    <tr>\n",
       "      <th>2024-11-25 13:06:00+00:00</th>\n",
       "      <td>39.410000</td>\n",
       "      <td>39.410000</td>\n",
       "      <td>39.419998</td>\n",
       "      <td>39.389999</td>\n",
       "      <td>39.400002</td>\n",
       "      <td>60200</td>\n",
       "    </tr>\n",
       "    <tr>\n",
       "      <th>2024-11-25 13:07:00+00:00</th>\n",
       "      <td>39.369999</td>\n",
       "      <td>39.369999</td>\n",
       "      <td>39.419998</td>\n",
       "      <td>39.360001</td>\n",
       "      <td>39.419998</td>\n",
       "      <td>55100</td>\n",
       "    </tr>\n",
       "    <tr>\n",
       "      <th>...</th>\n",
       "      <td>...</td>\n",
       "      <td>...</td>\n",
       "      <td>...</td>\n",
       "      <td>...</td>\n",
       "      <td>...</td>\n",
       "      <td>...</td>\n",
       "    </tr>\n",
       "    <tr>\n",
       "      <th>2024-11-25 19:55:00+00:00</th>\n",
       "      <td>39.270000</td>\n",
       "      <td>39.270000</td>\n",
       "      <td>39.330002</td>\n",
       "      <td>39.250000</td>\n",
       "      <td>39.259998</td>\n",
       "      <td>282700</td>\n",
       "    </tr>\n",
       "    <tr>\n",
       "      <th>2024-11-25 19:56:00+00:00</th>\n",
       "      <td>39.290001</td>\n",
       "      <td>39.290001</td>\n",
       "      <td>39.320000</td>\n",
       "      <td>39.259998</td>\n",
       "      <td>39.270000</td>\n",
       "      <td>29500</td>\n",
       "    </tr>\n",
       "    <tr>\n",
       "      <th>2024-11-25 19:57:00+00:00</th>\n",
       "      <td>39.310001</td>\n",
       "      <td>39.310001</td>\n",
       "      <td>39.310001</td>\n",
       "      <td>39.290001</td>\n",
       "      <td>39.310001</td>\n",
       "      <td>73400</td>\n",
       "    </tr>\n",
       "    <tr>\n",
       "      <th>2024-11-25 19:58:00+00:00</th>\n",
       "      <td>39.270000</td>\n",
       "      <td>39.270000</td>\n",
       "      <td>39.310001</td>\n",
       "      <td>39.270000</td>\n",
       "      <td>39.290001</td>\n",
       "      <td>21600</td>\n",
       "    </tr>\n",
       "    <tr>\n",
       "      <th>2024-11-25 19:59:00+00:00</th>\n",
       "      <td>39.279999</td>\n",
       "      <td>39.279999</td>\n",
       "      <td>39.290001</td>\n",
       "      <td>39.259998</td>\n",
       "      <td>39.270000</td>\n",
       "      <td>20000</td>\n",
       "    </tr>\n",
       "  </tbody>\n",
       "</table>\n",
       "<p>417 rows × 6 columns</p>\n",
       "</div>"
      ],
      "text/plain": [
       "Price                      Adj Close      Close       High        Low  \\\n",
       "Ticker                      PETR4.SA   PETR4.SA   PETR4.SA   PETR4.SA   \n",
       "Datetime                                                                \n",
       "2024-11-25 13:03:00+00:00  39.349998  39.349998  39.400002  39.299999   \n",
       "2024-11-25 13:04:00+00:00  39.419998  39.419998  39.419998  39.349998   \n",
       "2024-11-25 13:05:00+00:00  39.389999  39.389999  39.419998  39.360001   \n",
       "2024-11-25 13:06:00+00:00  39.410000  39.410000  39.419998  39.389999   \n",
       "2024-11-25 13:07:00+00:00  39.369999  39.369999  39.419998  39.360001   \n",
       "...                              ...        ...        ...        ...   \n",
       "2024-11-25 19:55:00+00:00  39.270000  39.270000  39.330002  39.250000   \n",
       "2024-11-25 19:56:00+00:00  39.290001  39.290001  39.320000  39.259998   \n",
       "2024-11-25 19:57:00+00:00  39.310001  39.310001  39.310001  39.290001   \n",
       "2024-11-25 19:58:00+00:00  39.270000  39.270000  39.310001  39.270000   \n",
       "2024-11-25 19:59:00+00:00  39.279999  39.279999  39.290001  39.259998   \n",
       "\n",
       "Price                           Open   Volume  \n",
       "Ticker                      PETR4.SA PETR4.SA  \n",
       "Datetime                                       \n",
       "2024-11-25 13:03:00+00:00  39.380001        0  \n",
       "2024-11-25 13:04:00+00:00  39.369999   100300  \n",
       "2024-11-25 13:05:00+00:00  39.419998    84100  \n",
       "2024-11-25 13:06:00+00:00  39.400002    60200  \n",
       "2024-11-25 13:07:00+00:00  39.419998    55100  \n",
       "...                              ...      ...  \n",
       "2024-11-25 19:55:00+00:00  39.259998   282700  \n",
       "2024-11-25 19:56:00+00:00  39.270000    29500  \n",
       "2024-11-25 19:57:00+00:00  39.310001    73400  \n",
       "2024-11-25 19:58:00+00:00  39.290001    21600  \n",
       "2024-11-25 19:59:00+00:00  39.270000    20000  \n",
       "\n",
       "[417 rows x 6 columns]"
      ]
     },
     "execution_count": 33,
     "metadata": {},
     "output_type": "execute_result"
    }
   ],
   "source": [
    "ticker = \"PETR4.SA\"\n",
    "fetch_real_time_data(ticker)"
   ]
  },
  {
   "cell_type": "markdown",
   "id": "133c718e-3073-408f-8f81-fb2e50a4995b",
   "metadata": {},
   "source": [
    "# 5. Desenvolvimento de algoritmo de trading baseado em volatilidade"
   ]
  },
  {
   "cell_type": "code",
   "execution_count": 35,
   "id": "1a98aee8-0a11-45d0-8709-73349fcc5b46",
   "metadata": {},
   "outputs": [
    {
     "name": "stdout",
     "output_type": "stream",
     "text": [
      "Volatilidade Historica:\n",
      "Price                          Close Log_Returns Historical_Volatility\n",
      "Ticker                      PETR4.SA                                  \n",
      "Date                                                                  \n",
      "2024-10-24 00:00:00+00:00  35.900002    0.006708              0.186282\n",
      "2024-10-25 00:00:00+00:00  36.150002    0.006940              0.187280\n",
      "2024-10-28 00:00:00+00:00  36.090000   -0.001661              0.182314\n",
      "2024-10-29 00:00:00+00:00  36.009998   -0.002219              0.182041\n",
      "2024-10-30 00:00:00+00:00  35.849998   -0.004453              0.168468\n",
      "\n",
      "Volatilidade Implicita:\n",
      "[0.5744237091257847]\n",
      "Volatilidade Historica:\n",
      "0.16846764493723385\n",
      "-> Volatilidade implicita esta em sobrepreco, considere vender volatilidade (ex. iron condor).\n"
     ]
    }
   ],
   "source": [
    "def calculate_volatility(ticker, start_date, end_date, option_data):\n",
    "    \"Calcular volatilidade historica e implicita\"\n",
    "    # Volatilidade Historica\n",
    "    historical_data = calculate_historical_volatility(ticker, start_date, end_date)\n",
    "    # Volatilidade Implicita para cada opcao\n",
    "    implied_vols = []\n",
    "    for option in option_data:\n",
    "        S = option['S']\n",
    "        K = option['K']\n",
    "        T = option['T']\n",
    "        r = option['r']\n",
    "        market_price = option['market_price']\n",
    "        iv = implied_volatility(S, K, T, r, market_price, option['type'])\n",
    "        implied_vols.append(iv)\n",
    "    return historical_data, implied_vols\n",
    "\n",
    "# Dados das opcoes \n",
    "option_data = [\n",
    "    {\"S\":39, \"K\":43, \"T\":0.5, \"r\":0.03, \"market_price\":5, \"type\": \"call\"}\n",
    "]\n",
    "\n",
    "# Uso\n",
    "historical_vol, implied_vol = calculate_volatility(\"PETR4.SA\", \"2010-01-01\", \"2024-10-31\", \n",
    "                                                   option_data)\n",
    "print(\"Volatilidade Historica:\")\n",
    "print(historical_vol.tail())\n",
    "print(\"\\nVolatilidade Implicita:\")\n",
    "print(implied_vol)\n",
    "\n",
    "iv = pd.DataFrame(implied_vol)\n",
    "hv = pd.DataFrame(historical_vol)\n",
    "historical_volatility = hv.Historical_Volatility\n",
    "hv_value = historical_volatility.iloc[-1]\n",
    "print(\"Volatilidade Historica:\")\n",
    "print(hv_value)\n",
    "\n",
    "# Detectar oportunidades na variacao de preco\n",
    "if implied_vol > hv_value:\n",
    "    print(\"-> Volatilidade implicita esta em sobrepreco, considere vender volatilidade (ex. iron condor).\")\n",
    "else:\n",
    "    print(\"-> Volatilidade implicita esta em sobpreco, considere comprar volatilidade (ex. long straddle).\")\n"
   ]
  },
  {
   "cell_type": "markdown",
   "id": "eeefff2c-265c-4f7f-902e-6c5abfe58e44",
   "metadata": {},
   "source": [
    "# 5.1 Machine Learning para previsao de volatilidade"
   ]
  },
  {
   "cell_type": "code",
   "execution_count": 37,
   "id": "7b171b2f-6978-4179-bd9e-075214498380",
   "metadata": {},
   "outputs": [
    {
     "name": "stdout",
     "output_type": "stream",
     "text": [
      "Price                          Close Log_Returns Historical_Volatility\n",
      "Ticker                      PETR4.SA                                  \n",
      "Date                                                                  \n",
      "2024-10-24 00:00:00+00:00  35.900002    0.006708              0.186282\n",
      "2024-10-25 00:00:00+00:00  36.150002    0.006940              0.187280\n",
      "2024-10-28 00:00:00+00:00  36.090000   -0.001661              0.182314\n",
      "2024-10-29 00:00:00+00:00  36.009998   -0.002219              0.182041\n",
      "2024-10-30 00:00:00+00:00  35.849998   -0.004453              0.168468\n",
      "Date\n",
      "2024-10-24 00:00:00+00:00    0.006708\n",
      "2024-10-25 00:00:00+00:00    0.006940\n",
      "2024-10-28 00:00:00+00:00   -0.001661\n",
      "2024-10-29 00:00:00+00:00   -0.002219\n",
      "2024-10-30 00:00:00+00:00   -0.004453\n",
      "Name: Log_Returns, dtype: float64\n",
      "Volatilidade esperada: 45.96%\n"
     ]
    }
   ],
   "source": [
    "from sklearn.ensemble import RandomForestRegressor\n",
    "from sklearn.model_selection import train_test_split\n",
    "\n",
    "df = pd.DataFrame(historical_vol) \n",
    "print(df.tail())\n",
    "returns = df.Log_Returns\n",
    "print(returns.tail())\n",
    "\n",
    "#Preparar dados \n",
    "X = returns.values.reshape(-1,1)[1:] #Retornos pregressos como feature\n",
    "y = returns.shift(-1).dropna().values #Retorno do proximo dia como target\n",
    "\n",
    "X_train, X_test, y_train, y_test = train_test_split(X, y, test_size=0.2, random_state=42)\n",
    "\n",
    "#Treinar o modelo RandomForest\n",
    "model = RandomForestRegressor(n_estimators=100, random_state=42)\n",
    "model.fit(X_train, y_train)\n",
    "\n",
    "#Predizer retornos do proximo dia (para analise de volatilidade)\n",
    "y_pred = model.predict(X_test)\n",
    "print(f\"Volatilidade esperada: {np.std(y_pred) * np.sqrt(252):.2%}\")"
   ]
  },
  {
   "cell_type": "markdown",
   "id": "d23bbc52-4675-40de-8623-a36f686398f0",
   "metadata": {},
   "source": [
    "# 6. Backtesting da estrategia em diferentes cenarios de mercado - VectorBT"
   ]
  },
  {
   "cell_type": "code",
   "execution_count": null,
   "id": "3678aae2-055d-4d2e-8360-5d3a8431a385",
   "metadata": {},
   "outputs": [],
   "source": []
  },
  {
   "cell_type": "markdown",
   "id": "d12962e7-25dc-4886-a8d5-ad68f6af015b",
   "metadata": {},
   "source": [
    "# 7. Integracao com APIs externas "
   ]
  },
  {
   "cell_type": "code",
   "execution_count": null,
   "id": "328fc267-14a2-4cc0-ae5d-ac623f723010",
   "metadata": {},
   "outputs": [],
   "source": []
  },
  {
   "cell_type": "markdown",
   "id": "3b8c2483-119e-448d-a723-edaab1ee63c9",
   "metadata": {},
   "source": [
    "# 8. Ajustes e otimizacao com base nos testes"
   ]
  },
  {
   "cell_type": "code",
   "execution_count": null,
   "id": "397bbd91-6a05-4da3-888d-09e4afd90ef0",
   "metadata": {},
   "outputs": [],
   "source": []
  },
  {
   "cell_type": "markdown",
   "id": "f1a8df43-6b25-48a8-a3a3-58efc875c700",
   "metadata": {},
   "source": [
    "# 9. Implementar interface de monitoramento"
   ]
  },
  {
   "cell_type": "code",
   "execution_count": 3,
   "id": "c45b60db-428d-4dbb-9e4b-62d08c95faaa",
   "metadata": {},
   "outputs": [
    {
     "name": "stdout",
     "output_type": "stream",
     "text": [
      "Collecting dash\n",
      "  Downloading dash-2.18.2-py3-none-any.whl.metadata (10 kB)\n",
      "Requirement already satisfied: Flask<3.1,>=1.0.4 in c:\\users\\wittc_000\\anaconda3\\lib\\site-packages (from dash) (3.0.3)\n",
      "Requirement already satisfied: Werkzeug<3.1 in c:\\users\\wittc_000\\anaconda3\\lib\\site-packages (from dash) (3.0.3)\n",
      "Requirement already satisfied: plotly>=5.0.0 in c:\\users\\wittc_000\\anaconda3\\lib\\site-packages (from dash) (5.24.1)\n",
      "Collecting dash-html-components==2.0.0 (from dash)\n",
      "  Downloading dash_html_components-2.0.0-py3-none-any.whl.metadata (3.8 kB)\n",
      "Collecting dash-core-components==2.0.0 (from dash)\n",
      "  Downloading dash_core_components-2.0.0-py3-none-any.whl.metadata (2.9 kB)\n",
      "Collecting dash-table==5.0.0 (from dash)\n",
      "  Downloading dash_table-5.0.0-py3-none-any.whl.metadata (2.4 kB)\n",
      "Requirement already satisfied: importlib-metadata in c:\\users\\wittc_000\\anaconda3\\lib\\site-packages (from dash) (7.0.1)\n",
      "Requirement already satisfied: typing-extensions>=4.1.1 in c:\\users\\wittc_000\\anaconda3\\lib\\site-packages (from dash) (4.11.0)\n",
      "Requirement already satisfied: requests in c:\\users\\wittc_000\\anaconda3\\lib\\site-packages (from dash) (2.32.3)\n",
      "Collecting retrying (from dash)\n",
      "  Downloading retrying-1.3.4-py3-none-any.whl.metadata (6.9 kB)\n",
      "Requirement already satisfied: nest-asyncio in c:\\users\\wittc_000\\anaconda3\\lib\\site-packages (from dash) (1.6.0)\n",
      "Requirement already satisfied: setuptools in c:\\users\\wittc_000\\anaconda3\\lib\\site-packages (from dash) (75.1.0)\n",
      "Requirement already satisfied: Jinja2>=3.1.2 in c:\\users\\wittc_000\\anaconda3\\lib\\site-packages (from Flask<3.1,>=1.0.4->dash) (3.1.4)\n",
      "Requirement already satisfied: itsdangerous>=2.1.2 in c:\\users\\wittc_000\\anaconda3\\lib\\site-packages (from Flask<3.1,>=1.0.4->dash) (2.2.0)\n",
      "Requirement already satisfied: click>=8.1.3 in c:\\users\\wittc_000\\anaconda3\\lib\\site-packages (from Flask<3.1,>=1.0.4->dash) (8.1.7)\n",
      "Requirement already satisfied: blinker>=1.6.2 in c:\\users\\wittc_000\\anaconda3\\lib\\site-packages (from Flask<3.1,>=1.0.4->dash) (1.6.2)\n",
      "Requirement already satisfied: tenacity>=6.2.0 in c:\\users\\wittc_000\\anaconda3\\lib\\site-packages (from plotly>=5.0.0->dash) (8.2.3)\n",
      "Requirement already satisfied: packaging in c:\\users\\wittc_000\\anaconda3\\lib\\site-packages (from plotly>=5.0.0->dash) (24.1)\n",
      "Requirement already satisfied: MarkupSafe>=2.1.1 in c:\\users\\wittc_000\\anaconda3\\lib\\site-packages (from Werkzeug<3.1->dash) (2.1.3)\n",
      "Requirement already satisfied: zipp>=0.5 in c:\\users\\wittc_000\\anaconda3\\lib\\site-packages (from importlib-metadata->dash) (3.17.0)\n",
      "Requirement already satisfied: charset-normalizer<4,>=2 in c:\\users\\wittc_000\\anaconda3\\lib\\site-packages (from requests->dash) (3.3.2)\n",
      "Requirement already satisfied: idna<4,>=2.5 in c:\\users\\wittc_000\\anaconda3\\lib\\site-packages (from requests->dash) (3.7)\n",
      "Requirement already satisfied: urllib3<3,>=1.21.1 in c:\\users\\wittc_000\\anaconda3\\lib\\site-packages (from requests->dash) (2.2.3)\n",
      "Requirement already satisfied: certifi>=2017.4.17 in c:\\users\\wittc_000\\anaconda3\\lib\\site-packages (from requests->dash) (2024.8.30)\n",
      "Requirement already satisfied: six>=1.7.0 in c:\\users\\wittc_000\\anaconda3\\lib\\site-packages (from retrying->dash) (1.16.0)\n",
      "Requirement already satisfied: colorama in c:\\users\\wittc_000\\anaconda3\\lib\\site-packages (from click>=8.1.3->Flask<3.1,>=1.0.4->dash) (0.4.6)\n",
      "Downloading dash-2.18.2-py3-none-any.whl (7.8 MB)\n",
      "   ---------------------------------------- 0.0/7.8 MB ? eta -:--:--\n",
      "   -- ------------------------------------- 0.5/7.8 MB 2.4 MB/s eta 0:00:04\n",
      "   ----- ---------------------------------- 1.0/7.8 MB 2.5 MB/s eta 0:00:03\n",
      "   -------- ------------------------------- 1.6/7.8 MB 2.5 MB/s eta 0:00:03\n",
      "   ---------- ----------------------------- 2.1/7.8 MB 2.6 MB/s eta 0:00:03\n",
      "   ------------- -------------------------- 2.6/7.8 MB 2.5 MB/s eta 0:00:03\n",
      "   ---------------- ----------------------- 3.1/7.8 MB 2.5 MB/s eta 0:00:02\n",
      "   ------------------ --------------------- 3.7/7.8 MB 2.5 MB/s eta 0:00:02\n",
      "   --------------------- ------------------ 4.2/7.8 MB 2.5 MB/s eta 0:00:02\n",
      "   ------------------------ --------------- 4.7/7.8 MB 2.5 MB/s eta 0:00:02\n",
      "   -------------------------- ------------- 5.2/7.8 MB 2.5 MB/s eta 0:00:02\n",
      "   ------------------------------ --------- 6.0/7.8 MB 2.5 MB/s eta 0:00:01\n",
      "   --------------------------------- ------ 6.6/7.8 MB 2.5 MB/s eta 0:00:01\n",
      "   ------------------------------------ --- 7.1/7.8 MB 2.5 MB/s eta 0:00:01\n",
      "   ---------------------------------------  7.6/7.8 MB 2.5 MB/s eta 0:00:01\n",
      "   ---------------------------------------  7.6/7.8 MB 2.5 MB/s eta 0:00:01\n",
      "   ---------------------------------------  7.6/7.8 MB 2.5 MB/s eta 0:00:01\n",
      "   ---------------------------------------  7.6/7.8 MB 2.5 MB/s eta 0:00:01\n",
      "   ---------------------------------------  7.6/7.8 MB 2.5 MB/s eta 0:00:01\n",
      "   ---------------------------------------  7.6/7.8 MB 2.5 MB/s eta 0:00:01\n",
      "   ---------------------------------------- 7.8/7.8 MB 1.8 MB/s eta 0:00:00\n",
      "Downloading dash_core_components-2.0.0-py3-none-any.whl (3.8 kB)\n",
      "Downloading dash_html_components-2.0.0-py3-none-any.whl (4.1 kB)\n",
      "Downloading dash_table-5.0.0-py3-none-any.whl (3.9 kB)\n",
      "Downloading retrying-1.3.4-py3-none-any.whl (11 kB)\n",
      "Installing collected packages: dash-table, dash-html-components, dash-core-components, retrying, dash\n",
      "Successfully installed dash-2.18.2 dash-core-components-2.0.0 dash-html-components-2.0.0 dash-table-5.0.0 retrying-1.3.4\n"
     ]
    }
   ],
   "source": [
    "!pip install dash"
   ]
  },
  {
   "cell_type": "code",
   "execution_count": 39,
   "id": "dace0043-0b12-4f2f-8314-28e1befda56d",
   "metadata": {},
   "outputs": [
    {
     "data": {
      "text/html": [
       "\n",
       "        <iframe\n",
       "            width=\"100%\"\n",
       "            height=\"650\"\n",
       "            src=\"http://127.0.0.1:8050/\"\n",
       "            frameborder=\"0\"\n",
       "            allowfullscreen\n",
       "            \n",
       "        ></iframe>\n",
       "        "
      ],
      "text/plain": [
       "<IPython.lib.display.IFrame at 0x11029a66c0>"
      ]
     },
     "metadata": {},
     "output_type": "display_data"
    }
   ],
   "source": [
    "from dash import Dash, dcc, html\n",
    "import plotly.express as px\n",
    "\n",
    "# Dados de volatilidade historica\n",
    "fig = px.line(historical_volatility, x=historical_volatility.index, y='Historical_Volatility', \n",
    "              title='Volatilidade Historica')\n",
    "\n",
    "# Inicializar o aplicativo Dash\n",
    "app = Dash(__name__)\n",
    "\n",
    "app.layout = html.Div([\n",
    "    html.H1(\"Dashboard de Volatilidade\"),\n",
    "    dcc.Graph(figure=fig),\n",
    "    dcc.Dropdown(\n",
    "        id='ticker-dropdown',\n",
    "        options=[{'label': 'PETR4.SA', 'value': 'PETR4.SA'}, {'label': 'VALE3.SA', 'value': 'VALE3.SA'}],\n",
    "        value='PETR4.SA'\n",
    "    )\n",
    "])\n",
    "\n",
    "if __name__ == '__main__':\n",
    "    app.run_server(debug=True)\n",
    "\n"
   ]
  },
  {
   "cell_type": "code",
   "execution_count": null,
   "id": "a71fbb23-5cd6-4670-97e0-e387d5298dc9",
   "metadata": {},
   "outputs": [],
   "source": []
  }
 ],
 "metadata": {
  "kernelspec": {
   "display_name": "Python 3 (ipykernel)",
   "language": "python",
   "name": "python3"
  },
  "language_info": {
   "codemirror_mode": {
    "name": "ipython",
    "version": 3
   },
   "file_extension": ".py",
   "mimetype": "text/x-python",
   "name": "python",
   "nbconvert_exporter": "python",
   "pygments_lexer": "ipython3",
   "version": "3.12.7"
  }
 },
 "nbformat": 4,
 "nbformat_minor": 5
}
